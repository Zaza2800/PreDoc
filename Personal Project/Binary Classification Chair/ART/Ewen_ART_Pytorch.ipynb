{
  "nbformat": 4,
  "nbformat_minor": 0,
  "metadata": {
    "colab": {
      "provenance": []
    },
    "kernelspec": {
      "name": "python3",
      "display_name": "Python 3"
    },
    "language_info": {
      "name": "python"
    }
  },
  "cells": [
    {
      "cell_type": "code",
      "execution_count": 1,
      "metadata": {
        "id": "sRgcHZLDoVyV"
      },
      "outputs": [],
      "source": [
        "import h5py\n",
        "import seaborn as sns\n",
        "import matplotlib.pyplot as plt\n",
        "import pandas as pd\n",
        "import numpy as np\n",
        "import itertools\n",
        "import os\n",
        "import cv2\n",
        "from sklearn.model_selection import train_test_split\n",
        "from sklearn.model_selection import learning_curve\n",
        "from sklearn.pipeline import make_pipeline\n",
        "from sklearn.metrics import accuracy_score\n",
        "from sklearn.preprocessing import StandardScaler\n",
        "from sklearn import datasets\n",
        "from sklearn.metrics import confusion_matrix\n",
        "\n",
        "\n",
        "# Model\n",
        "from sklearn.ensemble import RandomForestClassifier\n",
        "from sklearn.linear_model import SGDClassifier\n",
        "import torch\n",
        "import torch.nn as nn\n",
        "import torch.optim as optim"
      ]
    },
    {
      "cell_type": "code",
      "source": [
        "#Import dataset\n",
        "import pathlib\n",
        "import os\n",
        "import zipfile\n",
        "\n",
        "# Spécifier le chemin du fichier zip à dézipper\n",
        "fichier_zip = '/content/wetransfer_art_2023-11-19_2132.zip'\n",
        "\n",
        "# Spécifier le répertoire de destination pour extraire les fichiers\n",
        "destination = '/content/image'\n",
        "\n",
        "# Ouvrir le fichier zip\n",
        "with zipfile.ZipFile(fichier_zip, 'r') as zip_ref:\n",
        "    # Extraire tous les fichiers vers le répertoire de destination\n",
        "    zip_ref.extractall(destination)\n",
        "\n",
        "print(\"Le dossier a été dézippé avec succès.\")"
      ],
      "metadata": {
        "colab": {
          "base_uri": "https://localhost:8080/"
        },
        "id": "GQwwtOWgockz",
        "outputId": "bc4a7926-9c3e-4c11-8922-085a98fa825c"
      },
      "execution_count": 4,
      "outputs": [
        {
          "output_type": "stream",
          "name": "stdout",
          "text": [
            "Le dossier a été dézippé avec succès.\n"
          ]
        }
      ]
    },
    {
      "cell_type": "code",
      "source": [
        "pictures = []\n",
        "labels   = []\n",
        "\n",
        "for dossier in [\"prouvé\", \"random\"]:\n",
        "    dossier_complet = os.path.join('/content/image/ART', dossier)\n",
        "    label = 1 if dossier == \"prouvé\" else 0\n",
        "\n",
        "    for fichier in os.listdir(dossier_complet):\n",
        "        chemin_image = os.path.join(dossier_complet, fichier)\n",
        "        image = cv2.imread(chemin_image)\n",
        "\n",
        "        if image is not None:\n",
        "            # Redimensionnez l'image si nécessaire\n",
        "            image = cv2.resize(image, (10, 10))\n",
        "            image = image/255.0\n",
        "            # Ajouter l'image et le label aux listes\n",
        "            pictures.append(image)\n",
        "            labels.append(label)\n",
        "\n",
        "pictures = np.stack(pictures, axis=0)\n",
        "#J'utilise pytorch -> tensor\n",
        "pictures = torch.tensor(pictures)\n",
        "print('picture shape :',pictures.shape)\n",
        "labels = np.array(labels)\n",
        "labels = torch.tensor(labels)\n",
        "print('labels shape :',labels.shape)"
      ],
      "metadata": {
        "colab": {
          "base_uri": "https://localhost:8080/"
        },
        "id": "18a1LYhe3Ma-",
        "outputId": "07bacf35-3e13-423e-cddd-5f14796555f2"
      },
      "execution_count": 64,
      "outputs": [
        {
          "output_type": "stream",
          "name": "stdout",
          "text": [
            "picture shape : torch.Size([1917, 10, 10, 3])\n",
            "labels shape : torch.Size([1917])\n"
          ]
        }
      ]
    },
    {
      "cell_type": "code",
      "source": [
        "pictures_train, pictures_test, labels_train, labels_test = train_test_split(pictures, labels, test_size=0.2, random_state=42)"
      ],
      "metadata": {
        "id": "tfspxXHf4mlu"
      },
      "execution_count": 65,
      "outputs": []
    },
    {
      "cell_type": "code",
      "source": [
        "class ConvNet(nn.Module):\n",
        "    \"\"\"\n",
        "    This class defines the structure of the neural network\n",
        "    \"\"\"\n",
        "\n",
        "    def __init__(self, in_dim):\n",
        "        super(ConvNet, self).__init__()\n",
        "        # We first define the convolution and pooling layers as a features extractor\n",
        "        self.in_dim = in_dim\n",
        "        self.features = nn.Sequential(\n",
        "            nn.Conv2d(self.in_dim, out_channels = 32, kernel_size = 5, stride=1, padding=2),\n",
        "            nn.ReLU(),\n",
        "            nn.MaxPool2d(kernel_size = 2, stride=2, padding =0),\n",
        "            nn.Dropout(p=0.5),\n",
        "            nn.Conv2d(in_channels=32, out_channels = 64, kernel_size = 5, stride=1, padding=2),\n",
        "            nn.ReLU(),\n",
        "            nn.MaxPool2d(kernel_size = 2, stride=2, padding=0),\n",
        "            nn.Dropout(p=0.5),\n",
        "            nn.Conv2d(in_channels=64, out_channels = 64, kernel_size = 5, stride=1, padding=2),\n",
        "            nn.ReLU(),\n",
        "            nn.MaxPool2d(kernel_size = 2, stride=2, padding=0)\n",
        "        )\n",
        "        # We then define fully connected layers as a classifier\n",
        "        self.classifier = nn.Sequential(\n",
        "            nn.Linear(64, 100),\n",
        "            nn.ReLU(),\n",
        "            nn.Linear(100, 100),\n",
        "            nn.ReLU(),\n",
        "            nn.Linear(100, 2),\n",
        "            nn.Softmax(dim=1)\n",
        "        )\n",
        "\n",
        "    # Method called when we apply the network to an input batch\n",
        "    def forward(self, input):\n",
        "        bsize = input.size(0) # batch size\n",
        "        output = self.features(input) # output of the conv layers\n",
        "        output = output.reshape(bsize, -1)\n",
        "        #print(output.shape)\n",
        "        output = self.classifier(output) # we compute the output of the fc layers\n",
        "        return output\n",
        "\n"
      ],
      "metadata": {
        "id": "jcbOix6N5OFI"
      },
      "execution_count": 66,
      "outputs": []
    },
    {
      "cell_type": "code",
      "source": [
        "from torch.utils.data import DataLoader, Dataset\n",
        "class MyDataset(Dataset):\n",
        "    def __init__(self, images, labels):\n",
        "        self.images = images\n",
        "        self.labels = labels\n",
        "\n",
        "    def __len__(self):\n",
        "        return len(self.labels)\n",
        "\n",
        "    def __getitem__(self, idx):\n",
        "        image = self.images[idx]\n",
        "        label = self.labels[idx]\n",
        "        return {'image': image, 'label': label}\n",
        "\n"
      ],
      "metadata": {
        "id": "CFIesWQZ9bfY"
      },
      "execution_count": 67,
      "outputs": []
    },
    {
      "cell_type": "code",
      "source": [
        "import torch.nn.functional as F\n",
        "\n",
        "\n",
        "#criterion = F.binary_cross_entropy\n",
        "model = ConvNet(3)\n",
        "criterion = nn.CrossEntropyLoss()\n",
        "optimizer = optim.Adam(model.parameters(), lr=0.0001)\n",
        "batch_size = 10"
      ],
      "metadata": {
        "id": "Fe1Skxxipl5Q"
      },
      "execution_count": 68,
      "outputs": []
    },
    {
      "cell_type": "code",
      "source": [
        "#pictures_train, pictures_test, labels_train, labels_test\n",
        "from torch.utils.data import TensorDataset, DataLoader\n",
        "train_dataset = TensorDataset(pictures_train, labels_train)\n",
        "train_dl = torch.utils.data.DataLoader(train_dataset,\n",
        "                        batch_size, shuffle=True)\n",
        "\n",
        "val_dataset = TensorDataset(pictures_test, labels_test)\n",
        "val_dl = torch.utils.data.DataLoader(val_dataset,\n",
        "                        batch_size, shuffle=True)"
      ],
      "metadata": {
        "id": "up6S2ZGAp3o9"
      },
      "execution_count": 78,
      "outputs": []
    },
    {
      "cell_type": "code",
      "source": [
        "def training_dl(nb_epoch, model_dl, dataloader, optimizer, criterion):\n",
        "  LOSS = []\n",
        "  ACCURACY = []\n",
        "  Y_esti_list = []\n",
        "\n",
        "\n",
        "  for epoch in range(nb_epoch):\n",
        "      total_loss = 0\n",
        "      correct_predictions = 0\n",
        "      total_samples = 0\n",
        "      for X_batch, Y_batch in dataloader:\n",
        "          optimizer.zero_grad()\n",
        "          X_batch = X_batch.float()\n",
        "          X_batch = X_batch.permute(0, 3, 1, 2)\n",
        "          prediction = model_dl(X_batch)\n",
        "\n",
        "          # Calcul de la perte\n",
        "          loss = criterion(prediction, Y_batch)\n",
        "          loss.backward()\n",
        "          total_loss += loss.item()\n",
        "          optimizer.step()\n",
        "\n",
        "          # Calcul de l'exactitude\n",
        "          _, Y_esti = torch.max(prediction, 1)\n",
        "          correct_predictions += torch.sum(torch.eq(Y_esti, (Y_batch))).item()\n",
        "          total_samples += len(Y_batch)\n",
        "\n",
        "      # Calcul de la perte moyenne et de l'exactitude moyenne pour l'époque\n",
        "      average_loss = total_loss / len(dataloader)\n",
        "      accuracy = correct_predictions / total_samples\n",
        "\n",
        "      # Enregistrement des valeurs\n",
        "      LOSS.append(average_loss)\n",
        "      ACCURACY.append(accuracy)\n",
        "\n",
        "      print(f'Epoch [{epoch + 1}/{nb_epoch}], Loss: {average_loss:.4f}, Accuracy: {accuracy:.4f}')\n",
        "\n",
        "\n",
        "  return LOSS, ACCURACY, model_dl"
      ],
      "metadata": {
        "id": "nrrpE9ZHBi4s"
      },
      "execution_count": 70,
      "outputs": []
    },
    {
      "cell_type": "code",
      "source": [
        "def test_dl(nb_epoch, model_dl, dataloader, optimizer, criterion):\n",
        "  LOSS = []\n",
        "  ACCURACY = []\n",
        "  Y_esti_list = []\n",
        "\n",
        "  model_dl.eval()\n",
        "  for epoch in range(1):\n",
        "      total_loss = 0\n",
        "      correct_predictions = 0\n",
        "      total_samples = 0\n",
        "      with torch.no_grad():\n",
        "        for X_batch, Y_batch in dataloader:\n",
        "            X_batch = X_batch.float()\n",
        "            X_batch = X_batch.permute(0, 3, 1, 2)\n",
        "            prediction = model_dl(X_batch)\n",
        "\n",
        "            # Calcul de la perte\n",
        "            loss = criterion(prediction, Y_batch)\n",
        "\n",
        "            total_loss += loss.item()\n",
        "\n",
        "            # Calcul de l'exactitude\n",
        "            _, Y_esti = torch.max(prediction, 1)\n",
        "            correct_predictions += torch.sum(torch.eq(Y_esti, (Y_batch))).item()\n",
        "            total_samples += len(Y_batch)\n",
        "\n",
        "        # Calcul de la perte moyenne et de l'exactitude moyenne pour l'époque\n",
        "        average_loss = total_loss / len(dataloader)\n",
        "        accuracy = correct_predictions / total_samples\n",
        "\n",
        "        # Enregistrement des valeurs\n",
        "        LOSS.append(average_loss)\n",
        "        ACCURACY.append(accuracy)\n",
        "\n",
        "      print(f'Résultat de l evaluation, Loss: {average_loss:.4f}, Accuracy: {accuracy:.4f}')\n",
        "\n",
        "  return LOSS, ACCURACY"
      ],
      "metadata": {
        "id": "0QAO3SitElTs"
      },
      "execution_count": 86,
      "outputs": []
    },
    {
      "cell_type": "code",
      "source": [
        "nb_epoch = 150\n",
        "LOSS_train, ACCURACY_train, model = training_dl(nb_epoch, model, train_dl, optimizer, criterion)\n"
      ],
      "metadata": {
        "colab": {
          "base_uri": "https://localhost:8080/",
          "height": 1000
        },
        "id": "wqfg1DV-B0Sy",
        "outputId": "49209ad2-310b-44b8-e9c9-304bdf2411ed"
      },
      "execution_count": 72,
      "outputs": [
        {
          "output_type": "stream",
          "name": "stdout",
          "text": [
            "Epoch [1/150], Loss: 0.6745, Accuracy: 0.6236\n",
            "Epoch [2/150], Loss: 0.6587, Accuracy: 0.6360\n",
            "Epoch [3/150], Loss: 0.6617, Accuracy: 0.6360\n",
            "Epoch [4/150], Loss: 0.6603, Accuracy: 0.6360\n",
            "Epoch [5/150], Loss: 0.6586, Accuracy: 0.6360\n",
            "Epoch [6/150], Loss: 0.6574, Accuracy: 0.6360\n",
            "Epoch [7/150], Loss: 0.6560, Accuracy: 0.6360\n",
            "Epoch [8/150], Loss: 0.6557, Accuracy: 0.6360\n",
            "Epoch [9/150], Loss: 0.6523, Accuracy: 0.6360\n",
            "Epoch [10/150], Loss: 0.6480, Accuracy: 0.6360\n",
            "Epoch [11/150], Loss: 0.6410, Accuracy: 0.6360\n",
            "Epoch [12/150], Loss: 0.6264, Accuracy: 0.6380\n",
            "Epoch [13/150], Loss: 0.5987, Accuracy: 0.7156\n",
            "Epoch [14/150], Loss: 0.5711, Accuracy: 0.7260\n",
            "Epoch [15/150], Loss: 0.5587, Accuracy: 0.7397\n",
            "Epoch [16/150], Loss: 0.5401, Accuracy: 0.7599\n",
            "Epoch [17/150], Loss: 0.5376, Accuracy: 0.7632\n",
            "Epoch [18/150], Loss: 0.5347, Accuracy: 0.7639\n",
            "Epoch [19/150], Loss: 0.5203, Accuracy: 0.7880\n",
            "Epoch [20/150], Loss: 0.5149, Accuracy: 0.7958\n",
            "Epoch [21/150], Loss: 0.5187, Accuracy: 0.7841\n",
            "Epoch [22/150], Loss: 0.5035, Accuracy: 0.7939\n",
            "Epoch [23/150], Loss: 0.5098, Accuracy: 0.7926\n",
            "Epoch [24/150], Loss: 0.5053, Accuracy: 0.7991\n",
            "Epoch [25/150], Loss: 0.5049, Accuracy: 0.7984\n",
            "Epoch [26/150], Loss: 0.5018, Accuracy: 0.8043\n",
            "Epoch [27/150], Loss: 0.5004, Accuracy: 0.8043\n",
            "Epoch [28/150], Loss: 0.4838, Accuracy: 0.8271\n",
            "Epoch [29/150], Loss: 0.4847, Accuracy: 0.8219\n",
            "Epoch [30/150], Loss: 0.4907, Accuracy: 0.8187\n",
            "Epoch [31/150], Loss: 0.4881, Accuracy: 0.8128\n",
            "Epoch [32/150], Loss: 0.4940, Accuracy: 0.8147\n",
            "Epoch [33/150], Loss: 0.4799, Accuracy: 0.8337\n",
            "Epoch [34/150], Loss: 0.4935, Accuracy: 0.8108\n",
            "Epoch [35/150], Loss: 0.4847, Accuracy: 0.8265\n",
            "Epoch [36/150], Loss: 0.4854, Accuracy: 0.8213\n",
            "Epoch [37/150], Loss: 0.4824, Accuracy: 0.8232\n",
            "Epoch [38/150], Loss: 0.4869, Accuracy: 0.8206\n",
            "Epoch [39/150], Loss: 0.4751, Accuracy: 0.8343\n",
            "Epoch [40/150], Loss: 0.4760, Accuracy: 0.8284\n",
            "Epoch [41/150], Loss: 0.4750, Accuracy: 0.8356\n",
            "Epoch [42/150], Loss: 0.4711, Accuracy: 0.8337\n",
            "Epoch [43/150], Loss: 0.4785, Accuracy: 0.8304\n",
            "Epoch [44/150], Loss: 0.4796, Accuracy: 0.8297\n",
            "Epoch [45/150], Loss: 0.4712, Accuracy: 0.8363\n",
            "Epoch [46/150], Loss: 0.4662, Accuracy: 0.8434\n",
            "Epoch [47/150], Loss: 0.4722, Accuracy: 0.8369\n",
            "Epoch [48/150], Loss: 0.4752, Accuracy: 0.8337\n",
            "Epoch [49/150], Loss: 0.4658, Accuracy: 0.8434\n",
            "Epoch [50/150], Loss: 0.4669, Accuracy: 0.8408\n",
            "Epoch [51/150], Loss: 0.4683, Accuracy: 0.8376\n",
            "Epoch [52/150], Loss: 0.4628, Accuracy: 0.8487\n",
            "Epoch [53/150], Loss: 0.4661, Accuracy: 0.8415\n",
            "Epoch [54/150], Loss: 0.4624, Accuracy: 0.8447\n",
            "Epoch [55/150], Loss: 0.4581, Accuracy: 0.8513\n",
            "Epoch [56/150], Loss: 0.4681, Accuracy: 0.8369\n",
            "Epoch [57/150], Loss: 0.4569, Accuracy: 0.8506\n",
            "Epoch [58/150], Loss: 0.4627, Accuracy: 0.8461\n",
            "Epoch [59/150], Loss: 0.4574, Accuracy: 0.8500\n",
            "Epoch [60/150], Loss: 0.4601, Accuracy: 0.8447\n",
            "Epoch [61/150], Loss: 0.4539, Accuracy: 0.8539\n",
            "Epoch [62/150], Loss: 0.4714, Accuracy: 0.8363\n",
            "Epoch [63/150], Loss: 0.4630, Accuracy: 0.8447\n",
            "Epoch [64/150], Loss: 0.4565, Accuracy: 0.8513\n",
            "Epoch [65/150], Loss: 0.4560, Accuracy: 0.8545\n",
            "Epoch [66/150], Loss: 0.4533, Accuracy: 0.8565\n",
            "Epoch [67/150], Loss: 0.4607, Accuracy: 0.8506\n",
            "Epoch [68/150], Loss: 0.4519, Accuracy: 0.8539\n",
            "Epoch [69/150], Loss: 0.4482, Accuracy: 0.8643\n",
            "Epoch [70/150], Loss: 0.4493, Accuracy: 0.8598\n",
            "Epoch [71/150], Loss: 0.4461, Accuracy: 0.8669\n",
            "Epoch [72/150], Loss: 0.4476, Accuracy: 0.8591\n",
            "Epoch [73/150], Loss: 0.4493, Accuracy: 0.8584\n",
            "Epoch [74/150], Loss: 0.4497, Accuracy: 0.8578\n",
            "Epoch [75/150], Loss: 0.4462, Accuracy: 0.8630\n",
            "Epoch [76/150], Loss: 0.4461, Accuracy: 0.8630\n",
            "Epoch [77/150], Loss: 0.4434, Accuracy: 0.8617\n",
            "Epoch [78/150], Loss: 0.4355, Accuracy: 0.8708\n",
            "Epoch [79/150], Loss: 0.4439, Accuracy: 0.8604\n",
            "Epoch [80/150], Loss: 0.4412, Accuracy: 0.8676\n",
            "Epoch [81/150], Loss: 0.4358, Accuracy: 0.8748\n",
            "Epoch [82/150], Loss: 0.4400, Accuracy: 0.8728\n",
            "Epoch [83/150], Loss: 0.4384, Accuracy: 0.8702\n",
            "Epoch [84/150], Loss: 0.4477, Accuracy: 0.8624\n",
            "Epoch [85/150], Loss: 0.4456, Accuracy: 0.8598\n",
            "Epoch [86/150], Loss: 0.4412, Accuracy: 0.8676\n",
            "Epoch [87/150], Loss: 0.4358, Accuracy: 0.8774\n",
            "Epoch [88/150], Loss: 0.4460, Accuracy: 0.8630\n",
            "Epoch [89/150], Loss: 0.4387, Accuracy: 0.8676\n",
            "Epoch [90/150], Loss: 0.4363, Accuracy: 0.8735\n",
            "Epoch [91/150], Loss: 0.4304, Accuracy: 0.8780\n",
            "Epoch [92/150], Loss: 0.4428, Accuracy: 0.8643\n",
            "Epoch [93/150], Loss: 0.4436, Accuracy: 0.8676\n",
            "Epoch [94/150], Loss: 0.4251, Accuracy: 0.8865\n",
            "Epoch [95/150], Loss: 0.4346, Accuracy: 0.8702\n",
            "Epoch [96/150], Loss: 0.4472, Accuracy: 0.8584\n",
            "Epoch [97/150], Loss: 0.4319, Accuracy: 0.8780\n",
            "Epoch [98/150], Loss: 0.4407, Accuracy: 0.8643\n",
            "Epoch [99/150], Loss: 0.4319, Accuracy: 0.8774\n",
            "Epoch [100/150], Loss: 0.4383, Accuracy: 0.8774\n",
            "Epoch [101/150], Loss: 0.4363, Accuracy: 0.8748\n",
            "Epoch [102/150], Loss: 0.4331, Accuracy: 0.8748\n",
            "Epoch [103/150], Loss: 0.4398, Accuracy: 0.8637\n",
            "Epoch [104/150], Loss: 0.4270, Accuracy: 0.8832\n",
            "Epoch [105/150], Loss: 0.4415, Accuracy: 0.8650\n",
            "Epoch [106/150], Loss: 0.4338, Accuracy: 0.8761\n",
            "Epoch [107/150], Loss: 0.4309, Accuracy: 0.8800\n",
            "Epoch [108/150], Loss: 0.4293, Accuracy: 0.8832\n",
            "Epoch [109/150], Loss: 0.4270, Accuracy: 0.8800\n",
            "Epoch [110/150], Loss: 0.4299, Accuracy: 0.8826\n",
            "Epoch [111/150], Loss: 0.4282, Accuracy: 0.8800\n",
            "Epoch [112/150], Loss: 0.4265, Accuracy: 0.8819\n",
            "Epoch [113/150], Loss: 0.4240, Accuracy: 0.8839\n",
            "Epoch [114/150], Loss: 0.4250, Accuracy: 0.8813\n",
            "Epoch [115/150], Loss: 0.4291, Accuracy: 0.8819\n",
            "Epoch [116/150], Loss: 0.4287, Accuracy: 0.8826\n",
            "Epoch [117/150], Loss: 0.4267, Accuracy: 0.8839\n",
            "Epoch [118/150], Loss: 0.4369, Accuracy: 0.8708\n",
            "Epoch [119/150], Loss: 0.4270, Accuracy: 0.8819\n",
            "Epoch [120/150], Loss: 0.4250, Accuracy: 0.8806\n",
            "Epoch [121/150], Loss: 0.4302, Accuracy: 0.8806\n",
            "Epoch [122/150], Loss: 0.4236, Accuracy: 0.8826\n",
            "Epoch [123/150], Loss: 0.4281, Accuracy: 0.8806\n",
            "Epoch [124/150], Loss: 0.4131, Accuracy: 0.8969\n",
            "Epoch [125/150], Loss: 0.4285, Accuracy: 0.8748\n",
            "Epoch [126/150], Loss: 0.4247, Accuracy: 0.8800\n",
            "Epoch [127/150], Loss: 0.4177, Accuracy: 0.8878\n",
            "Epoch [128/150], Loss: 0.4208, Accuracy: 0.8904\n",
            "Epoch [129/150], Loss: 0.4207, Accuracy: 0.8924\n",
            "Epoch [130/150], Loss: 0.4263, Accuracy: 0.8832\n",
            "Epoch [131/150], Loss: 0.4243, Accuracy: 0.8865\n",
            "Epoch [132/150], Loss: 0.4243, Accuracy: 0.8852\n",
            "Epoch [133/150], Loss: 0.4177, Accuracy: 0.8924\n",
            "Epoch [134/150], Loss: 0.4190, Accuracy: 0.8924\n",
            "Epoch [135/150], Loss: 0.4226, Accuracy: 0.8891\n",
            "Epoch [136/150], Loss: 0.4164, Accuracy: 0.8924\n",
            "Epoch [137/150], Loss: 0.4189, Accuracy: 0.8891\n",
            "Epoch [138/150], Loss: 0.4212, Accuracy: 0.8891\n",
            "Epoch [139/150], Loss: 0.4231, Accuracy: 0.8865\n",
            "Epoch [140/150], Loss: 0.4175, Accuracy: 0.8950\n",
            "Epoch [141/150], Loss: 0.4281, Accuracy: 0.8839\n",
            "Epoch [142/150], Loss: 0.4238, Accuracy: 0.8891\n",
            "Epoch [143/150], Loss: 0.4199, Accuracy: 0.8911\n",
            "Epoch [144/150], Loss: 0.4235, Accuracy: 0.8839\n",
            "Epoch [145/150], Loss: 0.4182, Accuracy: 0.8911\n",
            "Epoch [146/150], Loss: 0.4235, Accuracy: 0.8845\n",
            "Epoch [147/150], Loss: 0.4189, Accuracy: 0.8898\n",
            "Epoch [148/150], Loss: 0.4189, Accuracy: 0.8878\n",
            "Epoch [149/150], Loss: 0.4193, Accuracy: 0.8930\n",
            "Epoch [150/150], Loss: 0.4195, Accuracy: 0.8898\n"
          ]
        },
        {
          "output_type": "error",
          "ename": "TypeError",
          "evalue": "ignored",
          "traceback": [
            "\u001b[0;31m---------------------------------------------------------------------------\u001b[0m",
            "\u001b[0;31mTypeError\u001b[0m                                 Traceback (most recent call last)",
            "\u001b[0;32m<ipython-input-72-4d75ac6782c0>\u001b[0m in \u001b[0;36m<cell line: 3>\u001b[0;34m()\u001b[0m\n\u001b[1;32m      1\u001b[0m \u001b[0mnb_epoch\u001b[0m \u001b[0;34m=\u001b[0m \u001b[0;36m150\u001b[0m\u001b[0;34m\u001b[0m\u001b[0;34m\u001b[0m\u001b[0m\n\u001b[1;32m      2\u001b[0m \u001b[0mLOSS_train\u001b[0m\u001b[0;34m,\u001b[0m \u001b[0mACCURACY_train\u001b[0m\u001b[0;34m,\u001b[0m \u001b[0mmodel\u001b[0m \u001b[0;34m=\u001b[0m \u001b[0mtraining_dl\u001b[0m\u001b[0;34m(\u001b[0m\u001b[0mnb_epoch\u001b[0m\u001b[0;34m,\u001b[0m \u001b[0mmodel\u001b[0m\u001b[0;34m,\u001b[0m \u001b[0mtrain_dl\u001b[0m\u001b[0;34m,\u001b[0m \u001b[0moptimizer\u001b[0m\u001b[0;34m,\u001b[0m \u001b[0mcriterion\u001b[0m\u001b[0;34m)\u001b[0m\u001b[0;34m\u001b[0m\u001b[0;34m\u001b[0m\u001b[0m\n\u001b[0;32m----> 3\u001b[0;31m \u001b[0mLOSS_test\u001b[0m\u001b[0;34m,\u001b[0m \u001b[0mACCURACY_test\u001b[0m \u001b[0;34m=\u001b[0m \u001b[0mtest_dl\u001b[0m\u001b[0;34m(\u001b[0m\u001b[0mnb_epoch\u001b[0m\u001b[0;34m,\u001b[0m \u001b[0mmodel\u001b[0m\u001b[0;34m,\u001b[0m \u001b[0mtest_dl\u001b[0m\u001b[0;34m,\u001b[0m \u001b[0moptimizer\u001b[0m\u001b[0;34m,\u001b[0m \u001b[0mcriterion\u001b[0m\u001b[0;34m)\u001b[0m\u001b[0;34m\u001b[0m\u001b[0;34m\u001b[0m\u001b[0m\n\u001b[0m",
            "\u001b[0;32m<ipython-input-71-53922ccff689>\u001b[0m in \u001b[0;36mtest_dl\u001b[0;34m(nb_epoch, model_dl, dataloader, optimizer, criterion)\u001b[0m\n\u001b[1;32m     10\u001b[0m       \u001b[0mtotal_samples\u001b[0m \u001b[0;34m=\u001b[0m \u001b[0;36m0\u001b[0m\u001b[0;34m\u001b[0m\u001b[0;34m\u001b[0m\u001b[0m\n\u001b[1;32m     11\u001b[0m       \u001b[0;32mwith\u001b[0m \u001b[0mtorch\u001b[0m\u001b[0;34m.\u001b[0m\u001b[0mno_grad\u001b[0m\u001b[0;34m(\u001b[0m\u001b[0;34m)\u001b[0m\u001b[0;34m:\u001b[0m\u001b[0;34m\u001b[0m\u001b[0;34m\u001b[0m\u001b[0m\n\u001b[0;32m---> 12\u001b[0;31m         \u001b[0;32mfor\u001b[0m \u001b[0mX_batch\u001b[0m\u001b[0;34m,\u001b[0m \u001b[0mY_batch\u001b[0m \u001b[0;32min\u001b[0m \u001b[0mdataloader\u001b[0m\u001b[0;34m:\u001b[0m\u001b[0;34m\u001b[0m\u001b[0;34m\u001b[0m\u001b[0m\n\u001b[0m\u001b[1;32m     13\u001b[0m             \u001b[0mX_batch\u001b[0m \u001b[0;34m=\u001b[0m \u001b[0mX_batch\u001b[0m\u001b[0;34m.\u001b[0m\u001b[0mfloat\u001b[0m\u001b[0;34m(\u001b[0m\u001b[0;34m)\u001b[0m\u001b[0;34m\u001b[0m\u001b[0;34m\u001b[0m\u001b[0m\n\u001b[1;32m     14\u001b[0m             \u001b[0mX_batch\u001b[0m \u001b[0;34m=\u001b[0m \u001b[0mX_batch\u001b[0m\u001b[0;34m.\u001b[0m\u001b[0mpermute\u001b[0m\u001b[0;34m(\u001b[0m\u001b[0;36m0\u001b[0m\u001b[0;34m,\u001b[0m \u001b[0;36m3\u001b[0m\u001b[0;34m,\u001b[0m \u001b[0;36m1\u001b[0m\u001b[0;34m,\u001b[0m \u001b[0;36m2\u001b[0m\u001b[0;34m)\u001b[0m\u001b[0;34m\u001b[0m\u001b[0;34m\u001b[0m\u001b[0m\n",
            "\u001b[0;31mTypeError\u001b[0m: 'function' object is not iterable"
          ]
        }
      ]
    },
    {
      "cell_type": "code",
      "source": [
        "plt.figure()\n",
        "plt.plot(range(nb_epoch), LOSS_train, label = \"train\")\n",
        "plt.xlabel(\"itération\")\n",
        "plt.ylabel(\"loss\")\n",
        "plt.legend()\n",
        "plt.grid()"
      ],
      "metadata": {
        "colab": {
          "base_uri": "https://localhost:8080/",
          "height": 449
        },
        "id": "OArcvLNQSeeO",
        "outputId": "07c0c818-dbbe-4982-abea-e78b913f0bfe"
      },
      "execution_count": 87,
      "outputs": [
        {
          "output_type": "display_data",
          "data": {
            "text/plain": [
              "<Figure size 640x480 with 1 Axes>"
            ],
            "image/png": "[encoded data removed]"
          },
          "metadata": {}
        }
      ]
    },
    {
      "cell_type": "code",
      "source": [
        "plt.figure()\n",
        "plt.plot(range(nb_epoch), ACCURACY_train, label = \"train\")\n",
        "plt.xlabel(\"itération\")\n",
        "plt.ylabel(\"accuracy\")\n",
        "plt.legend()\n",
        "plt.grid()"
      ],
      "metadata": {
        "colab": {
          "base_uri": "https://localhost:8080/",
          "height": 449
        },
        "id": "Gp2XLFU6Duph",
        "outputId": "e058d57f-19c1-4bad-f374-d78df3c1f6ea"
      },
      "execution_count": 88,
      "outputs": [
        {
          "output_type": "display_data",
          "data": {
            "text/plain": [
              "<Figure size 640x480 with 1 Axes>"
            ],
            "image/png": "[encoded data removed]"
          },
          "metadata": {}
        }
      ]
    },
    {
      "cell_type": "code",
      "source": [
        "LOSS_test, ACCURACY_test = test_dl(nb_epoch, model, val_dl, optimizer, criterion)"
      ],
      "metadata": {
        "colab": {
          "base_uri": "https://localhost:8080/"
        },
        "id": "rq1SwvS1Gj7X",
        "outputId": "80e6502c-30e4-4c3e-ac48-a24532a40877"
      },
      "execution_count": 89,
      "outputs": [
        {
          "output_type": "stream",
          "name": "stdout",
          "text": [
            "Résultat de l evaluation, Loss: 0.4393, Accuracy: 0.8620\n"
          ]
        }
      ]
    }
  ]
}
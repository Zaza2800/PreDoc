{
 "cells": [
  {
   "cell_type": "code",
   "execution_count": 1,
   "id": "e827fdc0",
   "metadata": {},
   "outputs": [
    {
     "name": "stderr",
     "output_type": "stream",
     "text": [
      "C:\\Users\\enza6\\anaconda3\\envs\\AMAL\\Lib\\site-packages\\tqdm\\auto.py:21: TqdmWarning: IProgress not found. Please update jupyter and ipywidgets. See https://ipywidgets.readthedocs.io/en/stable/user_install.html\n",
      "  from .autonotebook import tqdm as notebook_tqdm\n",
      "C:\\Users\\enza6\\anaconda3\\envs\\AMAL\\Lib\\site-packages\\paramiko\\transport.py:219: CryptographyDeprecationWarning: Blowfish has been deprecated\n",
      "  \"class\": algorithms.Blowfish,\n"
     ]
    }
   ],
   "source": [
    "import logging\n",
    "logging.basicConfig(level=logging.INFO)\n",
    "\n",
    "import os\n",
    "from pathlib import Path\n",
    "import torch\n",
    "import torch.nn as nn\n",
    "import torch.nn.functional as F\n",
    "from torch.utils.data import DataLoader, Dataset, random_split\n",
    "from torch.utils.tensorboard import SummaryWriter\n",
    "from tqdm import tqdm\n",
    "import click\n",
    "\n",
    "from datamaestro import prepare_dataset\n"
   ]
  },
  {
   "cell_type": "code",
   "execution_count": 14,
   "id": "86e78738",
   "metadata": {},
   "outputs": [
    {
     "ename": "ModuleNotFoundError",
     "evalue": "No module named 'pytorch_lightning'",
     "output_type": "error",
     "traceback": [
      "\u001b[1;31m---------------------------------------------------------------------------\u001b[0m",
      "\u001b[1;31mModuleNotFoundError\u001b[0m                       Traceback (most recent call last)",
      "Cell \u001b[1;32mIn[14], line 9\u001b[0m\n\u001b[0;32m      7\u001b[0m \u001b[38;5;28;01mfrom\u001b[39;00m \u001b[38;5;21;01mdatamaestro\u001b[39;00m \u001b[38;5;28;01mimport\u001b[39;00m prepare_dataset\n\u001b[0;32m      8\u001b[0m \u001b[38;5;28;01mimport\u001b[39;00m \u001b[38;5;21;01mtime\u001b[39;00m\n\u001b[1;32m----> 9\u001b[0m \u001b[38;5;28;01mimport\u001b[39;00m \u001b[38;5;21;01mpytorch_lightning\u001b[39;00m \u001b[38;5;28;01mas\u001b[39;00m \u001b[38;5;21;01mpl\u001b[39;00m\n\u001b[0;32m     10\u001b[0m \u001b[38;5;28;01mfrom\u001b[39;00m \u001b[38;5;21;01mpytorch_lightning\u001b[39;00m\u001b[38;5;21;01m.\u001b[39;00m\u001b[38;5;21;01mloggers\u001b[39;00m \u001b[38;5;28;01mimport\u001b[39;00m TensorBoardLogger\n\u001b[0;32m     12\u001b[0m BATCH_SIZE \u001b[38;5;241m=\u001b[39m \u001b[38;5;241m311\u001b[39m\n",
      "\u001b[1;31mModuleNotFoundError\u001b[0m: No module named 'pytorch_lightning'"
     ]
    }
   ],
   "source": [
    "import torch\n",
    "from torch.functional import norm\n",
    "import torch.nn as nn\n",
    "import torch.nn.functional as F\n",
    "from torch.utils.data import DataLoader,random_split,TensorDataset\n",
    "from pathlib import Path\n",
    "from datamaestro import prepare_dataset\n",
    "import time\n",
    "import pytorch_lightning as pl\n",
    "from pytorch_lightning.loggers import TensorBoardLogger\n",
    "\n",
    "BATCH_SIZE = 311\n",
    "TRAIN_RATIO = 0.8\n",
    "LOG_PATH = \"/tmp/runs/lightning_logs\""
   ]
  },
  {
   "cell_type": "code",
   "execution_count": 2,
   "id": "62edbe25",
   "metadata": {},
   "outputs": [],
   "source": [
    "# Ratio du jeu de train à utiliser\n",
    "TRAIN_RATIO = 0.05\n",
    "\n",
    "def store_grad(var):\n",
    "    \"\"\"Stores the gradient during backward\n",
    "\n",
    "    For a tensor x, call `store_grad(x)`\n",
    "    before `loss.backward`. The gradient will be available\n",
    "    as `x.grad`\n",
    "\n",
    "    \"\"\"\n",
    "    def hook(grad):\n",
    "        var.grad = grad\n",
    "    var.register_hook(hook)\n",
    "    return var\n"
   ]
  },
  {
   "cell_type": "code",
   "execution_count": 13,
   "id": "dd5560fb",
   "metadata": {},
   "outputs": [
    {
     "ename": "NameError",
     "evalue": "name 'pl' is not defined",
     "output_type": "error",
     "traceback": [
      "\u001b[1;31m---------------------------------------------------------------------------\u001b[0m",
      "\u001b[1;31mNameError\u001b[0m                                 Traceback (most recent call last)",
      "Cell \u001b[1;32mIn[13], line 1\u001b[0m\n\u001b[1;32m----> 1\u001b[0m \u001b[38;5;28;01mclass\u001b[39;00m \u001b[38;5;21;01mLitMnistData\u001b[39;00m(pl\u001b[38;5;241m.\u001b[39mLightningDataModule):\n\u001b[0;32m      3\u001b[0m     \u001b[38;5;28;01mdef\u001b[39;00m \u001b[38;5;21m__init__\u001b[39m(\u001b[38;5;28mself\u001b[39m,batch_size\u001b[38;5;241m=\u001b[39mBATCH_SIZE,train_ratio\u001b[38;5;241m=\u001b[39mTRAIN_RATIO):\n\u001b[0;32m      4\u001b[0m         \u001b[38;5;28msuper\u001b[39m()\u001b[38;5;241m.\u001b[39m\u001b[38;5;21m__init__\u001b[39m()\n",
      "\u001b[1;31mNameError\u001b[0m: name 'pl' is not defined"
     ]
    }
   ],
   "source": [
    "class LitMnistData(pl.LightningDataModule):\n",
    "\n",
    "    def __init__(self,batch_size=BATCH_SIZE,train_ratio=TRAIN_RATIO):\n",
    "        super().__init__()\n",
    "        self.dim_in = None\n",
    "        self.dim_out = None\n",
    "        self.batch_size = batch_size\n",
    "        self.train_ratio = train_ratio\n",
    "\n",
    "    def prepare_data(self):\n",
    "        ### Do not use \"self\" here.\n",
    "        prepare_dataset(\"com.lecun.mnist\")\n",
    "\n",
    "    def setup(self,stage=None):\n",
    "        ds = prepare_dataset(\"com.lecun.mnist\")\n",
    "        if stage ==\"fit\" or stage is None:\n",
    "            # Si on est en phase d'apprentissage\n",
    "            shape = ds.train.images.data().shape\n",
    "            self.dim_in = shape[1]*shape[2]\n",
    "            self.dim_out = len(set(ds.train.labels.data()))\n",
    "            ds_train = TensorDataset(torch.tensor(ds.train.images.data()).view(-1,self.dim_in).float()/255., torch.tensor(ds.train.labels.data()).long())\n",
    "            train_length = int(shape[0]*self.train_ratio)\n",
    "            self.mnist_train, self.mnist_val, = random_split(ds_train,[train_length,shape[0]-train_length])\n",
    "        if stage == \"test\" or stage is None:\n",
    "            # en phase de test\n",
    "            self.mnist_test= TensorDataset(torch.tensor(ds.test.images.data()).view(-1,self.dim_in).float()/255., torch.tensor(ds.test.labels.data()).long())\n",
    "\n",
    "    def train_dataloader(self):\n",
    "        return DataLoader(self.mnist_train,batch_size=self.batch_size)\n",
    "    def val_dataloader(self):\n",
    "        return DataLoader(self.mnist_val,batch_size=self.batch_size)\n",
    "    def test_dataloader(self):\n",
    "        return DataLoader(self.mnist_test,batch_size=self.batch_size)\n"
   ]
  },
  {
   "cell_type": "code",
   "execution_count": 4,
   "id": "18bb856c",
   "metadata": {},
   "outputs": [],
   "source": [
    "ds = prepare_dataset(\"com.lecun.mnist\")"
   ]
  },
  {
   "cell_type": "code",
   "execution_count": 10,
   "id": "b99d5b4f",
   "metadata": {},
   "outputs": [],
   "source": [
    "train_img, train_labels = ds.train.images.data(), ds.train.labels.data()\n",
    "test_img, test_labels = ds.test.images.data(), ds.test.labels.data()"
   ]
  },
  {
   "cell_type": "code",
   "execution_count": 12,
   "id": "d23818bf",
   "metadata": {},
   "outputs": [
    {
     "ename": "NameError",
     "evalue": "name 'LitMnistData' is not defined",
     "output_type": "error",
     "traceback": [
      "\u001b[1;31m---------------------------------------------------------------------------\u001b[0m",
      "\u001b[1;31mNameError\u001b[0m                                 Traceback (most recent call last)",
      "Cell \u001b[1;32mIn[12], line 1\u001b[0m\n\u001b[1;32m----> 1\u001b[0m data \u001b[38;5;241m=\u001b[39m LitMnistData()\n",
      "\u001b[1;31mNameError\u001b[0m: name 'LitMnistData' is not defined"
     ]
    }
   ],
   "source": [
    "data = LitMnistData()"
   ]
  },
  {
   "cell_type": "code",
   "execution_count": null,
   "id": "45a808a3",
   "metadata": {},
   "outputs": [],
   "source": []
  }
 ],
 "metadata": {
  "kernelspec": {
   "display_name": "Python 3 (ipykernel)",
   "language": "python",
   "name": "python3"
  },
  "language_info": {
   "codemirror_mode": {
    "name": "ipython",
    "version": 3
   },
   "file_extension": ".py",
   "mimetype": "text/x-python",
   "name": "python",
   "nbconvert_exporter": "python",
   "pygments_lexer": "ipython3",
   "version": "3.11.5"
  }
 },
 "nbformat": 4,
 "nbformat_minor": 5
}
